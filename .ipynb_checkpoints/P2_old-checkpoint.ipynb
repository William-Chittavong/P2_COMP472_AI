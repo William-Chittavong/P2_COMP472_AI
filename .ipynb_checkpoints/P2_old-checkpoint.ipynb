{
 "cells": [
  {
   "cell_type": "code",
   "execution_count": 1,
   "id": "0c591785",
   "metadata": {},
   "outputs": [],
   "source": [
    "import numpy as np"
   ]
  },
  {
   "cell_type": "code",
   "execution_count": 16,
   "id": "7212858b",
   "metadata": {},
   "outputs": [],
   "source": [
    "file = \"C:/Users/jach_/git_Repos/P2_COMP_472/P2_COMP472_AI/sample-input.txt\""
   ]
  },
  {
   "cell_type": "code",
   "execution_count": 17,
   "id": "09146dfc",
   "metadata": {},
   "outputs": [],
   "source": [
    "class Vehicle:\n",
    "    def __init__(self,char, axis ,x, y,length,fuel):\n",
    "        if char.alpha:\n",
    "            self.char = char\n",
    "        else:\n",
    "            raise ValueError('Not a letter.')\n",
    "        if 0 <= x <=5:\n",
    "            self.x = x\n",
    "        else:\n",
    "             raise ValueError('x is wrong size')\n",
    "        if 0 <= y <=5:\n",
    "            self.y = y\n",
    "            raise ValueError('y is wrong size')\n",
    "       \n",
    "        if axis == \"horizontal\":\n",
    "            self.axis = axis\n",
    "            back_x = self.x + (self.length - 1)\n",
    "            back_y = self.y\n",
    "        elif axis == \"vertical\":\n",
    "            back_x = self.x\n",
    "            back_y = self.y + (self.length - 1)\n",
    "        else:\n",
    "            raise ValueError('Wrong axis {0}'.format(axis))\n",
    "            \n",
    "        if back_x > 5 or back_y > 5:\n",
    "            raise ValueError('Outside board')\n",
    "            \n",
    "        self.fuel = fuel\n",
    "            \n",
    "    def __str__(self):\n",
    "        return f\"Vehicle({self.char},{self.axis},{self.x},{self.y},{self.length},{self.fuel})\""
   ]
  },
  {
   "cell_type": "code",
   "execution_count": 18,
   "id": "aad7f9ae",
   "metadata": {},
   "outputs": [],
   "source": [
    "fuel = {}"
   ]
  },
  {
   "cell_type": "code",
   "execution_count": 19,
   "id": "2ed94c21",
   "metadata": {},
   "outputs": [],
   "source": [
    "def string_to_matrix(line,n):\n",
    "    temp = [line[char: char + n] for char in range(0, len(line), n)]\n",
    "    \n",
    "    matrix = [list(x) for x in temp]\n",
    "    \n",
    "    return np.array(matrix)\n",
    "    "
   ]
  },
  {
   "cell_type": "code",
   "execution_count": 20,
   "id": "9a3ba20d",
   "metadata": {},
   "outputs": [],
   "source": [
    "def start_board(path,fuel,n):\n",
    "    with open(path) as f:\n",
    "        games = []\n",
    "        vehicles = []\n",
    "        num_games = 0\n",
    "        for line in f.readlines():\n",
    "            board = []\n",
    "            if line[0] ==\"#\" or line[0]==\"\\n\":\n",
    "                continue\n",
    "                \n",
    "            elif any(chr.isdigit() for chr in line):\n",
    "\n",
    "                cars0_fuel = line.split()\n",
    "                for pair in cars0_fuel[1:]:\n",
    "                    fuel[num_games] = {pair[0]:pair[1]}\n",
    "                \n",
    "                matrix = string_to_matrix(cars0_fuel[0],n)\n",
    "                #return matrix\n",
    "                games.append(matrix)\n",
    "               \n",
    "                num_games+=1\n",
    "\n",
    "                \n",
    "        \n",
    "        return games\n",
    "            \n",
    "                \n",
    "            \n",
    "                        \n",
    "                \n",
    "        \n",
    "    "
   ]
  },
  {
   "cell_type": "code",
   "execution_count": 21,
   "id": "e1286ca2",
   "metadata": {
    "scrolled": true
   },
   "outputs": [],
   "source": [
    "games = start_board(file,fuel,6)"
   ]
  },
  {
   "cell_type": "code",
   "execution_count": 22,
   "id": "cf18ac69",
   "metadata": {},
   "outputs": [
    {
     "data": {
      "text/plain": [
       "[array([['B', 'B', 'B', '.', '.', 'M'],\n",
       "        ['C', 'C', 'D', 'D', '.', 'M'],\n",
       "        ['A', 'A', 'K', 'L', '.', 'M'],\n",
       "        ['J', '.', 'K', 'L', 'E', 'E'],\n",
       "        ['J', '.', 'G', 'G', '.', '.'],\n",
       "        ['J', 'H', 'H', 'H', 'I', 'I']], dtype='<U1'),\n",
       " array([['I', 'J', 'B', 'B', 'C', 'C'],\n",
       "        ['I', 'J', 'D', 'D', 'L', '.'],\n",
       "        ['I', 'J', 'A', 'A', 'L', '.'],\n",
       "        ['E', 'E', 'K', '.', 'L', '.'],\n",
       "        ['.', '.', 'K', 'F', 'F', '.'],\n",
       "        ['.', 'G', 'G', 'H', 'H', '.']], dtype='<U1')]"
      ]
     },
     "execution_count": 22,
     "metadata": {},
     "output_type": "execute_result"
    }
   ],
   "source": [
    "games"
   ]
  },
  {
   "cell_type": "code",
   "execution_count": 23,
   "id": "82f37b73",
   "metadata": {},
   "outputs": [],
   "source": [
    "count = 0"
   ]
  },
  {
   "cell_type": "code",
   "execution_count": 24,
   "id": "d938b753",
   "metadata": {},
   "outputs": [],
   "source": [
    "for board in games:\n",
    "   \n",
    "    the_fuels = fuel.get(count)\n",
    "    for row in board:\n",
    "        for ele in row:\n",
    "            if ele == '.':\n",
    "                continue\n",
    "            else:\n",
    "                if ele not in the_fuels:\n",
    "                    fuel.get(count)[ele] = 100\n",
    "    count += 1 \n",
    "#         if car not in the_fuels:\n",
    "#             fuel.get(count)[car] = 100\n",
    "            "
   ]
  },
  {
   "cell_type": "code",
   "execution_count": 25,
   "id": "d91dbd04",
   "metadata": {
    "scrolled": false
   },
   "outputs": [
    {
     "data": {
      "text/plain": [
       "[array([['B', 'B', 'B', '.', '.', 'M'],\n",
       "        ['C', 'C', 'D', 'D', '.', 'M'],\n",
       "        ['A', 'A', 'K', 'L', '.', 'M'],\n",
       "        ['J', '.', 'K', 'L', 'E', 'E'],\n",
       "        ['J', '.', 'G', 'G', '.', '.'],\n",
       "        ['J', 'H', 'H', 'H', 'I', 'I']], dtype='<U1'),\n",
       " array([['I', 'J', 'B', 'B', 'C', 'C'],\n",
       "        ['I', 'J', 'D', 'D', 'L', '.'],\n",
       "        ['I', 'J', 'A', 'A', 'L', '.'],\n",
       "        ['E', 'E', 'K', '.', 'L', '.'],\n",
       "        ['.', '.', 'K', 'F', 'F', '.'],\n",
       "        ['.', 'G', 'G', 'H', 'H', '.']], dtype='<U1')]"
      ]
     },
     "execution_count": 25,
     "metadata": {},
     "output_type": "execute_result"
    }
   ],
   "source": [
    "games"
   ]
  },
  {
   "cell_type": "code",
   "execution_count": 26,
   "id": "d4f9920d",
   "metadata": {
    "scrolled": true
   },
   "outputs": [
    {
     "data": {
      "text/plain": [
       "array(['B', 'D', 'K', 'K', 'G', 'H'], dtype='<U1')"
      ]
     },
     "execution_count": 26,
     "metadata": {},
     "output_type": "execute_result"
    }
   ],
   "source": [
    "games[0][:,2]"
   ]
  },
  {
   "cell_type": "code",
   "execution_count": 27,
   "id": "10dcbbbd",
   "metadata": {
    "scrolled": true
   },
   "outputs": [
    {
     "data": {
      "text/plain": [
       "{0: {'B': '4',\n",
       "  'M': 100,\n",
       "  'C': 100,\n",
       "  'D': 100,\n",
       "  'A': 100,\n",
       "  'K': 100,\n",
       "  'L': 100,\n",
       "  'J': 100,\n",
       "  'E': 100,\n",
       "  'G': 100,\n",
       "  'H': 100,\n",
       "  'I': 100},\n",
       " 1: {'G': '6',\n",
       "  'I': 100,\n",
       "  'J': 100,\n",
       "  'B': 100,\n",
       "  'C': 100,\n",
       "  'D': 100,\n",
       "  'L': 100,\n",
       "  'A': 100,\n",
       "  'E': 100,\n",
       "  'K': 100,\n",
       "  'F': 100,\n",
       "  'H': 100}}"
      ]
     },
     "execution_count": 27,
     "metadata": {},
     "output_type": "execute_result"
    }
   ],
   "source": [
    "fuel"
   ]
  },
  {
   "cell_type": "code",
   "execution_count": 28,
   "id": "e5ce5ffd",
   "metadata": {},
   "outputs": [],
   "source": [
    "# #checks the first element of the row in a board for if it equals the next element \n",
    "#     if yes then it is horizontal\n",
    "#         if the letter has already been put as horizontal, then the next if wont trigger.\n",
    "#         however if the letter hasn't been seen yet (put as horizonatal) then it must be the start.\n",
    "#         so label that letter as horizontal\n",
    "#         else\n",
    "#             if the next letter from the start isn't the same as the current one, then it must be vertical.\n",
    "#                 put it in verticals{} if not there\n",
    "#         elif the current ele is the last one, "
   ]
  },
  {
   "cell_type": "code",
   "execution_count": 29,
   "id": "030f7a48",
   "metadata": {},
   "outputs": [],
   "source": [
    "horizontals = {}\n",
    "verticals = {}\n",
    "\n",
    "for count,board in enumerate(games):\n",
    "    for row in board:\n",
    "        ele_count = 0\n",
    "        for ele in row:\n",
    "            if ele == '.':\n",
    "                continue\n",
    "            else:\n",
    "                if ele_count == 0:\n",
    "                    if ele == row[ele_count + 1]:\n",
    "                        if ele not in horizontals:\n",
    "                            horizontals[ele] = {count:\"horizontal\"}\n",
    "                    else:\n",
    "                        if ele not in verticals:\n",
    "                            verticals[ele] = {count:\"vertical\"}\n",
    "                elif ele_count == len(row)-1:\n",
    "                    if ele == row[-2]:\n",
    "                        if ele not in horizontals:\n",
    "                            horizontals[ele] = {count:\"horizontal\"}\n",
    "                    else:\n",
    "                        if ele not in verticals:\n",
    "                            verticals[ele] = {count:\"vertical\"}\n",
    "                else:\n",
    "                    if ele == row[ele_count - 1] or ele == row[ele_count + 1]:\n",
    "                        if ele not in horizontals:\n",
    "                            horizontals[ele] = {count:\"horizontal\"}\n",
    "                    else:\n",
    "                        if ele not in verticals:\n",
    "                            verticals[ele] = {board:\"vertical\"}\n",
    "        ele_count += 1            \n",
    "                    \n",
    "            \n",
    "            "
   ]
  },
  {
   "cell_type": "code",
   "execution_count": 30,
   "id": "7e3ccfbc",
   "metadata": {},
   "outputs": [
    {
     "data": {
      "text/plain": [
       "{'M': {0: 'vertical'},\n",
       " 'D': {0: 'vertical'},\n",
       " 'K': {0: 'vertical'},\n",
       " 'L': {0: 'vertical'},\n",
       " 'J': {0: 'vertical'},\n",
       " 'E': {0: 'vertical'},\n",
       " 'G': {0: 'vertical'},\n",
       " 'I': {0: 'vertical'},\n",
       " 'B': {1: 'vertical'},\n",
       " 'C': {1: 'vertical'},\n",
       " 'A': {1: 'vertical'},\n",
       " 'F': {1: 'vertical'},\n",
       " 'H': {1: 'vertical'}}"
      ]
     },
     "execution_count": 30,
     "metadata": {},
     "output_type": "execute_result"
    }
   ],
   "source": [
    "verticals"
   ]
  },
  {
   "cell_type": "code",
   "execution_count": 31,
   "id": "c0b05d11",
   "metadata": {},
   "outputs": [
    {
     "data": {
      "text/plain": [
       "{'B': {0: 'horizontal'},\n",
       " 'C': {0: 'horizontal'},\n",
       " 'A': {0: 'horizontal'},\n",
       " 'H': {0: 'horizontal'},\n",
       " 'J': {1: 'horizontal'},\n",
       " 'E': {1: 'horizontal'},\n",
       " 'G': {1: 'horizontal'}}"
      ]
     },
     "execution_count": 31,
     "metadata": {},
     "output_type": "execute_result"
    }
   ],
   "source": [
    "horizontals"
   ]
  },
  {
   "cell_type": "code",
   "execution_count": 32,
   "id": "78427fc2",
   "metadata": {},
   "outputs": [
    {
     "ename": "AttributeError",
     "evalue": "'dict' object has no attribute 'append'",
     "output_type": "error",
     "traceback": [
      "\u001b[1;31m---------------------------------------------------------------------------\u001b[0m",
      "\u001b[1;31mAttributeError\u001b[0m                            Traceback (most recent call last)",
      "\u001b[1;32m<ipython-input-32-23b4612f4287>\u001b[0m in \u001b[0;36m<module>\u001b[1;34m\u001b[0m\n\u001b[0;32m      3\u001b[0m     \u001b[1;32mfor\u001b[0m \u001b[0my\u001b[0m \u001b[1;32min\u001b[0m \u001b[0mverticals\u001b[0m\u001b[1;33m:\u001b[0m\u001b[1;33m\u001b[0m\u001b[1;33m\u001b[0m\u001b[0m\n\u001b[0;32m      4\u001b[0m         \u001b[1;32mif\u001b[0m \u001b[0mx\u001b[0m \u001b[1;33m==\u001b[0m \u001b[0my\u001b[0m\u001b[1;33m:\u001b[0m\u001b[1;33m\u001b[0m\u001b[1;33m\u001b[0m\u001b[0m\n\u001b[1;32m----> 5\u001b[1;33m             \u001b[0mall_axis\u001b[0m\u001b[1;33m[\u001b[0m\u001b[0mx\u001b[0m\u001b[1;33m]\u001b[0m\u001b[1;33m.\u001b[0m\u001b[0mappend\u001b[0m\u001b[1;33m(\u001b[0m\u001b[0mverticals\u001b[0m\u001b[1;33m.\u001b[0m\u001b[0mget\u001b[0m\u001b[1;33m(\u001b[0m\u001b[0my\u001b[0m\u001b[1;33m)\u001b[0m\u001b[1;33m)\u001b[0m\u001b[1;33m\u001b[0m\u001b[1;33m\u001b[0m\u001b[0m\n\u001b[0m\u001b[0;32m      6\u001b[0m         \u001b[1;32melse\u001b[0m\u001b[1;33m:\u001b[0m\u001b[1;33m\u001b[0m\u001b[1;33m\u001b[0m\u001b[0m\n\u001b[0;32m      7\u001b[0m             \u001b[0mall_axis\u001b[0m\u001b[1;33m[\u001b[0m\u001b[0my\u001b[0m\u001b[1;33m]\u001b[0m \u001b[1;33m=\u001b[0m \u001b[0mverticals\u001b[0m\u001b[1;33m.\u001b[0m\u001b[0mget\u001b[0m\u001b[1;33m(\u001b[0m\u001b[0my\u001b[0m\u001b[1;33m)\u001b[0m\u001b[1;33m\u001b[0m\u001b[1;33m\u001b[0m\u001b[0m\n",
      "\u001b[1;31mAttributeError\u001b[0m: 'dict' object has no attribute 'append'"
     ]
    }
   ],
   "source": [
    "all_axis = horizontals.copy()\n",
    "for x in all_axis:\n",
    "    for y in verticals:\n",
    "        if x == y:\n",
    "            all_axis[x].append(verticals.get(y))\n",
    "        else:\n",
    "            all_axis[y] = verticals.get(y)\n",
    "            "
   ]
  },
  {
   "cell_type": "code",
   "execution_count": null,
   "id": "b3d72f4b",
   "metadata": {},
   "outputs": [],
   "source": []
  },
  {
   "cell_type": "code",
   "execution_count": null,
   "id": "e805c430",
   "metadata": {},
   "outputs": [],
   "source": []
  }
 ],
 "metadata": {
  "kernelspec": {
   "display_name": "Python 3",
   "language": "python",
   "name": "python3"
  },
  "language_info": {
   "codemirror_mode": {
    "name": "ipython",
    "version": 3
   },
   "file_extension": ".py",
   "mimetype": "text/x-python",
   "name": "python",
   "nbconvert_exporter": "python",
   "pygments_lexer": "ipython3",
   "version": "3.8.8"
  }
 },
 "nbformat": 4,
 "nbformat_minor": 5
}
